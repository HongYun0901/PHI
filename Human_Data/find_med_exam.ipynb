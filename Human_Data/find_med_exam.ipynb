{
 "cells": [
  {
   "cell_type": "code",
   "execution_count": 44,
   "metadata": {},
   "outputs": [
    {
     "name": "stdout",
     "output_type": "stream",
     "text": [
      "     article_id  start_position  end_position entity_text entity_type\n",
      "0             0             256           258          25    med_exam\n",
      "2             0             320           322          25    med_exam\n",
      "3             0             326           328          25    med_exam\n",
      "0             0             400           403         11點        time\n",
      "1             0             409           411          4點        time\n",
      "..          ...             ...           ...         ...         ...\n",
      "704          39             823           825          一年        time\n",
      "705          39             834           836          一年        time\n",
      "889          39            1151          1160   10percent    med_exam\n",
      "706          39            1715          1720       兩、三個月        time\n",
      "707          39            2008          2011         六個月        time\n",
      "\n",
      "[787 rows x 5 columns]\n",
      "     article_id  start_position  end_position entity_text entity_type\n",
      "0             0             256           258          25    med_exam\n",
      "1             0             320           322          25    med_exam\n",
      "2             0             326           328          25    med_exam\n",
      "3             0             400           403         11點        time\n",
      "4             0             409           411          4點        time\n",
      "..          ...             ...           ...         ...         ...\n",
      "782          39             823           825          一年        time\n",
      "783          39             834           836          一年        time\n",
      "784          39            1151          1160   10percent    med_exam\n",
      "785          39            1715          1720       兩、三個月        time\n",
      "786          39            2008          2011         六個月        time\n",
      "\n",
      "[787 rows x 5 columns]\n",
      "     article_id  start_position  end_position entity_text entity_type\n",
      "0             0             400           403         11點        time\n",
      "1             0             409           411          4點        time\n",
      "2             0             424           427         一小時        time\n",
      "3             0             615           619        11點多        time\n",
      "4             0             644           647         這兩天        time\n",
      "..          ...             ...           ...         ...         ...\n",
      "703          39             770           773         六個月        time\n",
      "704          39             823           825          一年        time\n",
      "705          39             834           836          一年        time\n",
      "706          39            1715          1720       兩、三個月        time\n",
      "707          39            2008          2011         六個月        time\n",
      "\n",
      "[708 rows x 5 columns]\n"
     ]
    }
   ],
   "source": [
    "import pandas as pd\n",
    "data = pd.read_csv('./roberta_128_ori_combine_fix_0357.tsv',sep='\\t')##哲緯的\n",
    "source = pd.read_csv('../result/dev_1_add_overlap.tsv',sep = '\\t')## 要mix進去的\n",
    "med_exam = []\n",
    "for i in range(len(data)):##抓出所有med_exam\n",
    "    if(data.iloc[i]['entity_type']=='med_exam'):\n",
    "        med_exam.append(data.iloc[i])\n",
    "result = pd.DataFrame(med_exam)\n",
    "source = source.append(result)##塞到宏昀的裡面\n",
    "source = source.sort_values(by='article_id')\n",
    "output_list = pd.DataFrame()\n",
    "article_count = 40 ##40 篇\n",
    "for i in range(article_count):\n",
    "    put_list = []\n",
    "    for j in range(len(source)):\n",
    "        if source.iloc[j]['article_id']==i:\n",
    "            put_list.append(source.iloc[j])\n",
    "    put = pd.DataFrame(put_list)\n",
    "    put = put.sort_values(by='start_position')\n",
    "    output_list = output_list.append(put)\n",
    "output_list.to_csv('./mix_hongyun_eric_new.tsv',sep='\\t',index = False)\n",
    "print(output_list)\n"
   ]
  }
 ],
 "metadata": {
  "kernelspec": {
   "display_name": "Python 3",
   "language": "python",
   "name": "python3"
  },
  "language_info": {
   "codemirror_mode": {
    "name": "ipython",
    "version": 3
   },
   "file_extension": ".py",
   "mimetype": "text/x-python",
   "name": "python",
   "nbconvert_exporter": "python",
   "pygments_lexer": "ipython3",
   "version": "3.6.9"
  }
 },
 "nbformat": 4,
 "nbformat_minor": 2
}
